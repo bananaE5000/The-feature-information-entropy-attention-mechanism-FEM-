{
 "cells": [
  {
   "cell_type": "code",
   "execution_count": 1,
   "id": "4b43b3f6",
   "metadata": {},
   "outputs": [
    {
     "ename": "ModuleNotFoundError",
     "evalue": "No module named 'unet'",
     "output_type": "error",
     "traceback": [
      "\u001b[1;31m---------------------------------------------------------------------------\u001b[0m",
      "\u001b[1;31mModuleNotFoundError\u001b[0m                       Traceback (most recent call last)",
      "\u001b[1;32m~\\AppData\\Local\\Temp\\ipykernel_26672\\3643777951.py\u001b[0m in \u001b[0;36m<module>\u001b[1;34m\u001b[0m\n\u001b[0;32m      7\u001b[0m \u001b[1;32mfrom\u001b[0m \u001b[0mtorchvision\u001b[0m \u001b[1;32mimport\u001b[0m \u001b[0mtransforms\u001b[0m\u001b[1;33m\u001b[0m\u001b[1;33m\u001b[0m\u001b[0m\n\u001b[0;32m      8\u001b[0m \u001b[1;32mfrom\u001b[0m \u001b[0mPIL\u001b[0m \u001b[1;32mimport\u001b[0m \u001b[0mImage\u001b[0m\u001b[1;33m\u001b[0m\u001b[1;33m\u001b[0m\u001b[0m\n\u001b[1;32m----> 9\u001b[1;33m \u001b[1;32mfrom\u001b[0m \u001b[0munet\u001b[0m \u001b[1;32mimport\u001b[0m \u001b[0mUNet\u001b[0m\u001b[1;33m\u001b[0m\u001b[1;33m\u001b[0m\u001b[0m\n\u001b[0m\u001b[0;32m     10\u001b[0m \u001b[1;32mimport\u001b[0m \u001b[0mtorch\u001b[0m\u001b[1;33m\u001b[0m\u001b[1;33m\u001b[0m\u001b[0m\n\u001b[0;32m     11\u001b[0m \u001b[1;32mfrom\u001b[0m \u001b[0mtorch\u001b[0m\u001b[1;33m.\u001b[0m\u001b[0mautograd\u001b[0m \u001b[1;32mimport\u001b[0m \u001b[0mVariable\u001b[0m\u001b[1;33m\u001b[0m\u001b[1;33m\u001b[0m\u001b[0m\n",
      "\u001b[1;31mModuleNotFoundError\u001b[0m: No module named 'unet'"
     ]
    }
   ],
   "source": [
    "import matplotlib\n",
    "import matplotlib.pyplot as plt\n",
    "\n",
    "import numpy as np\n",
    "import pandas as pd\n",
    "import cv2\n",
    "from torchvision import transforms\n",
    "from PIL import Image\n",
    "from unet import UNet\n",
    "import torch\n",
    "from torch.autograd import Variable\n",
    "import seaborn as sns\n",
    "from class_names import six_classes\n",
    "import umap\n",
    "import umap.plot\n",
    "import numpy as np\n",
    "import re\n",
    "import matplotlib.font_manager as fm\n",
    "    "
   ]
  },
  {
   "cell_type": "code",
   "execution_count": null,
   "id": "a046145d",
   "metadata": {},
   "outputs": [],
   "source": [
    "def getindex(weight,class_type):\n",
    "    if class_type == \"high\":\n",
    "        threshold = 0.667\n",
    "        #classes = weight[threshold <= weight[:]]\n",
    "        index1 = [i for i in range(len(weight)) if (threshold <= weight[i])]\n",
    "    elif class_type == \"low\":\n",
    "        threshold = 0.334\n",
    "        #classes = weight[weight[:]<= threshold]\n",
    "        index1 = [i for i in range(len(weight)) if (weight[i] <= threshold)]\n",
    "    else:\n",
    "        threshold1 = 0.334\n",
    "        threshold2 = 0.667\n",
    "        index1 = [i for i in range(len(weight)) if (threshold1 <= weight[i] <= threshold2)]\n",
    "    \n",
    "    \n",
    "    #index = np.isin(weight,classes)\n",
    "    #index1 = np.arange(len(weight))[index]\n",
    "    return index1\n",
    "def scattershow(mapper,weight,class_list):\n",
    "    for idx, class_type in enumerate(class_list): # 遍历每个类别\n",
    "        # 获取颜色和点型\n",
    "        color = palette[idx]\n",
    "        marker_list = ['^', ',', 'o', 'v', '.', '<', '>', '1', '2', '3', '4', '8', 's', 'p', 'P', '*', 'h', 'H', '+', 'x', 'X', 'D', 'd', '|']\n",
    "        marker = marker_list[idx%len(marker_list)]\n",
    "\n",
    "        # 找到所有标注类别为当前类别的图像索引号\n",
    "        iindex = getindex(weight[0],class_type)\n",
    "        \n",
    "        plt.scatter(F_umap_2d[iindex, 0], F_umap_2d[iindex, 1], color=color, label=class_type,marker=marker, s=90)\n",
    "\n",
    "    "
   ]
  },
  {
   "cell_type": "code",
   "execution_count": null,
   "id": "50435093",
   "metadata": {},
   "outputs": [],
   "source": [
    "path = r\"C:\\Users\\banana\\Documents\\learn\\Postgraduate_research\\dl\\result_v\\weights\\catten_mod1.txt\"\n",
    "with open(path,'r') as f:\n",
    "    a = f.read()\n",
    "e =  re.split(\"\\n\",a)\n",
    "\n",
    "f = \"\".join(e)\n",
    "b = re.split(\"\\s{3}|\\s{2}|\\s{1}\",a)\n",
    "b = str(f).split(\"][\")\n",
    "\n",
    "weight = []\n",
    "for i in range(len(b)):\n",
    "    \n",
    "    c = b[i].replace(\"[\",\"\").replace(\"]\",\"\")\n",
    "    d = re.split(\"\\s{3}|\\s{2}|\\s{1}\",c)\n",
    "    #print(d) \n",
    "    for j in range(len(d)):\n",
    "        if len(d[j])<=1:\n",
    "            d.remove(d[j])\n",
    "    temp_num_weight = np.zeros((len(d)))\n",
    "    for j in range(len(d)):\n",
    "        temp_num_weight[j] = float(d[j])\n",
    "    weight.append(temp_num_weight)\n",
    "    #plt.plot(temp_num_weight)\n",
    "    #plt.show()\n",
    "\n"
   ]
  },
  {
   "cell_type": "code",
   "execution_count": null,
   "id": "d820f4e7",
   "metadata": {},
   "outputs": [],
   "source": [
    "img_transform = transforms.Compose([\n",
    "    transforms.ToTensor()])\n",
    "img_path = r\"C:\\Users\\banana\\Documents\\learn\\Postgraduate_research\\dl\\vaihingen\\top\\top_mosaic_09cm_area4.tif\"\n",
    "image = Image.open(img_path).convert(\"RGB\")\n",
    "image = np.asarray(image)[1025:1025+800,520:520+800,:]\n",
    "image = Variable(img_transform(image))\n",
    "\n",
    "image= image.unsqueeze(0)\n",
    "\n",
    "model = UNet(n_channels=3, n_classes=6, atten_type = 'catten')\n",
    "path_checkpoint = r\"C:\\Users\\banana\\Documents\\learn\\Postgraduate_research\\dl\\result_v\\epoch_6400_acc_0.97593_kappa_0.93765.pth\"#断点路径\n",
    "checkpoint = torch.load(path_checkpoint)\n",
    "optimizer = torch.optim.Adam(model.parameters(),lr=0.001)\n",
    "model.load_state_dict(checkpoint['model_state_dict'])#加载模型可学习参数\n",
    "model.eval()\n",
    "pred,feature = model(image)\n",
    "pred = torch.argmax(pred, dim=1)\n",
    "pred = pred.data.cpu().numpy().astype(np.uint8)\n",
    "pred = pred.reshape((800,800)).astype(np.uint8)\n",
    "feature1 = feature.squeeze().detach().numpy()\n",
    "feature2 = feature.squeeze().detach().numpy()/np.asarray(weight[0]).reshape(-1,1,1)"
   ]
  },
  {
   "cell_type": "code",
   "execution_count": 2,
   "id": "e3ee581e",
   "metadata": {},
   "outputs": [
    {
     "name": "stdout",
     "output_type": "stream",
     "text": [
      "['high', 'med', 'low']\n"
     ]
    },
    {
     "ename": "NameError",
     "evalue": "name 'sns' is not defined",
     "output_type": "error",
     "traceback": [
      "\u001b[1;31m---------------------------------------------------------------------------\u001b[0m",
      "\u001b[1;31mNameError\u001b[0m                                 Traceback (most recent call last)",
      "\u001b[1;32m~\\AppData\\Local\\Temp\\ipykernel_26672\\1860622892.py\u001b[0m in \u001b[0;36m<module>\u001b[1;34m\u001b[0m\n\u001b[0;32m      3\u001b[0m \u001b[1;33m\u001b[0m\u001b[0m\n\u001b[0;32m      4\u001b[0m \u001b[0mn_class\u001b[0m \u001b[1;33m=\u001b[0m \u001b[0mlen\u001b[0m\u001b[1;33m(\u001b[0m\u001b[0mclass_list\u001b[0m\u001b[1;33m)\u001b[0m \u001b[1;31m# 测试集标签类别数\u001b[0m\u001b[1;33m\u001b[0m\u001b[1;33m\u001b[0m\u001b[0m\n\u001b[1;32m----> 5\u001b[1;33m \u001b[0mpalette\u001b[0m \u001b[1;33m=\u001b[0m \u001b[0msns\u001b[0m\u001b[1;33m.\u001b[0m\u001b[0mcolor_palette\u001b[0m\u001b[1;33m(\u001b[0m\u001b[1;34m\"RdBu_r\"\u001b[0m\u001b[1;33m,\u001b[0m \u001b[0mn_class\u001b[0m\u001b[1;33m)\u001b[0m \u001b[1;31m# 配色方案\u001b[0m\u001b[1;33m\u001b[0m\u001b[1;33m\u001b[0m\u001b[0m\n\u001b[0m\u001b[0;32m      6\u001b[0m \u001b[0mpalette2\u001b[0m \u001b[1;33m=\u001b[0m \u001b[0msns\u001b[0m\u001b[1;33m.\u001b[0m\u001b[0mcolor_palette\u001b[0m\u001b[1;33m(\u001b[0m\u001b[1;34m\"Paired\"\u001b[0m\u001b[1;33m,\u001b[0m \u001b[0mn_class\u001b[0m\u001b[1;33m)\u001b[0m\u001b[1;33m\u001b[0m\u001b[1;33m\u001b[0m\u001b[0m\n\u001b[0;32m      7\u001b[0m \u001b[1;33m\u001b[0m\u001b[0m\n",
      "\u001b[1;31mNameError\u001b[0m: name 'sns' is not defined"
     ]
    }
   ],
   "source": [
    "\n",
    "class_list = [\"high\",\"med\",\"low\"]\n",
    "print(class_list)\n",
    "\n",
    "n_class = len(class_list) # 测试集标签类别数\n",
    "palette = sns.color_palette(\"RdBu_r\", n_class) # 配色方案\n",
    "palette2 = sns.color_palette(\"Paired\", n_class)\n",
    "\n",
    "palette[1] = palette2[2]\n",
    "palette[0] = palette2[0]\n",
    "c,h,w = feature.shape\n",
    "mapper = umap.UMAP(n_neighbors=10, n_components=2).fit(feature1.reshape(c,h*w))\n",
    "print(mapper.embedding_.shape)\n",
    "F_umap_2d = mapper.embedding_\n",
    "\n"
   ]
  },
  {
   "cell_type": "code",
   "execution_count": null,
   "id": "b01ae50f",
   "metadata": {},
   "outputs": [],
   "source": [
    "scattershow(F_umap_2d ,weight,class_list)\n",
    "font = fm.FontProperties(family=\"Times New Roman\", size=12,stretch = 100)\n",
    "plt.legend(bbox_to_anchor=(0., -.02, 1., -.02),ncol = 3, mode=\"expand\", borderaxespad=0.,prop = font)\n",
    "plt.xticks([])\n",
    "plt.yticks([])\n",
    "plt.savefig(r'C:\\Users\\banana\\Desktop\\1.png', dpi=300) # 保存图像\n",
    "plt.show()"
   ]
  }
 ],
 "metadata": {
  "kernelspec": {
   "display_name": "Python 3 (ipykernel)",
   "language": "python",
   "name": "python3"
  },
  "language_info": {
   "codemirror_mode": {
    "name": "ipython",
    "version": 3
   },
   "file_extension": ".py",
   "mimetype": "text/x-python",
   "name": "python",
   "nbconvert_exporter": "python",
   "pygments_lexer": "ipython3",
   "version": "3.9.13"
  }
 },
 "nbformat": 4,
 "nbformat_minor": 5
}
